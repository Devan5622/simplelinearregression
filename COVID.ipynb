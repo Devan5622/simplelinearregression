{
  "nbformat": 4,
  "nbformat_minor": 0,
  "metadata": {
    "colab": {
      "name": "COVID.ipynb",
      "provenance": [],
      "collapsed_sections": [],
      "authorship_tag": "ABX9TyNofCMt9gPKX0TBd5sJGgHM",
      "include_colab_link": true
    },
    "kernelspec": {
      "name": "python3",
      "display_name": "Python 3"
    }
  },
  "cells": [
    {
      "cell_type": "markdown",
      "metadata": {
        "id": "view-in-github",
        "colab_type": "text"
      },
      "source": [
        "<a href=\"https://colab.research.google.com/github/Devan5622/simplelinearregression/blob/master/COVID.ipynb\" target=\"_parent\"><img src=\"https://colab.research.google.com/assets/colab-badge.svg\" alt=\"Open In Colab\"/></a>"
      ]
    },
    {
      "cell_type": "markdown",
      "metadata": {
        "id": "vq95sFb24Hy6"
      },
      "source": [
        ""
      ]
    },
    {
      "cell_type": "code",
      "metadata": {
        "colab": {
          "base_uri": "https://localhost:8080/"
        },
        "id": "epqLa2j5ew4i",
        "outputId": "c66773c8-bcfa-4295-f1d3-45549774d165"
      },
      "source": [
        "!pip install covid\n",
        "from covid import Covid\n",
        "covid=Covid()\n",
        "TCC=covid.get_total_confirmed_cases()\n",
        "TAC=covid.get_total_active_cases()\n",
        "TD=covid.get_total_deaths()\n",
        "TRC=TCC-TAC\n",
        "print(\"Total Confirmed Cases: %d\"%TCC)\n",
        "print(\"Total Active Cases: %d\" %TAC)\n",
        "print(\"Total Deaths: %d\" %TD)\n",
        "print(\"Total Recovered cases: %d\" %TRC)\n",
        "\n"
      ],
      "execution_count": 14,
      "outputs": [
        {
          "output_type": "stream",
          "text": [
            "Requirement already satisfied: covid in /usr/local/lib/python3.6/dist-packages (2.4.0)\n",
            "Requirement already satisfied: requests in /usr/local/lib/python3.6/dist-packages (from covid) (2.23.0)\n",
            "Requirement already satisfied: pydantic in /usr/local/lib/python3.6/dist-packages (from covid) (1.7.2)\n",
            "Requirement already satisfied: beautifulsoup4 in /usr/local/lib/python3.6/dist-packages (from covid) (4.6.3)\n",
            "Requirement already satisfied: typer in /usr/local/lib/python3.6/dist-packages (from covid) (0.3.2)\n",
            "Requirement already satisfied: idna<3,>=2.5 in /usr/local/lib/python3.6/dist-packages (from requests->covid) (2.10)\n",
            "Requirement already satisfied: chardet<4,>=3.0.2 in /usr/local/lib/python3.6/dist-packages (from requests->covid) (3.0.4)\n",
            "Requirement already satisfied: urllib3!=1.25.0,!=1.25.1,<1.26,>=1.21.1 in /usr/local/lib/python3.6/dist-packages (from requests->covid) (1.24.3)\n",
            "Requirement already satisfied: certifi>=2017.4.17 in /usr/local/lib/python3.6/dist-packages (from requests->covid) (2020.11.8)\n",
            "Requirement already satisfied: dataclasses>=0.6; python_version < \"3.7\" in /usr/local/lib/python3.6/dist-packages (from pydantic->covid) (0.8)\n",
            "Requirement already satisfied: click<7.2.0,>=7.1.1 in /usr/local/lib/python3.6/dist-packages (from typer->covid) (7.1.2)\n",
            "Total Confirmed Cases: 62875460\n",
            "Total Active Cases: 21137354\n",
            "Total Deaths: 1461763\n",
            "Total Recovered cases: 41738106\n"
          ],
          "name": "stdout"
        }
      ]
    }
  ]
}