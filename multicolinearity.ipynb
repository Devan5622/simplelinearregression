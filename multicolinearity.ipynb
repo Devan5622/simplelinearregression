{
  "nbformat": 4,
  "nbformat_minor": 0,
  "metadata": {
    "colab": {
      "name": "multicolinearity.ipynb",
      "provenance": [],
      "authorship_tag": "ABX9TyPh5Cso+IvrA0h7YvdFImM3",
      "include_colab_link": true
    },
    "kernelspec": {
      "name": "python3",
      "display_name": "Python 3"
    }
  },
  "cells": [
    {
      "cell_type": "markdown",
      "metadata": {
        "id": "view-in-github",
        "colab_type": "text"
      },
      "source": [
        "<a href=\"https://colab.research.google.com/github/Devan5622/simplelinearregression/blob/master/multicolinearity.ipynb\" target=\"_parent\"><img src=\"https://colab.research.google.com/assets/colab-badge.svg\" alt=\"Open In Colab\"/></a>"
      ]
    },
    {
      "cell_type": "code",
      "metadata": {
        "colab": {
          "base_uri": "https://localhost:8080/"
        },
        "id": "C44Jcc-kBuNd",
        "outputId": "760c0f26-05ed-465b-a76b-2a33effd6b94"
      },
      "source": [
        "import pandas as pd  \r\n",
        "import pandas as pd\r\n",
        "\r\n",
        "from sklearn.datasets import load_boston\r\n",
        "\r\n",
        "boston= load_boston()\r\n",
        "\r\n",
        "from statsmodels.stats.outliers_influence import variance_inflation_factor \r\n",
        "\r\n",
        "X = pd.DataFrame(data=boston.data,columns=boston.feature_names)\r\n",
        "\r\n",
        "Y = pd.DataFrame(data=boston.target,columns=['MEDV'])\r\n",
        "print(X.head())\r\n",
        "print(Y.head())"
      ],
      "execution_count": 51,
      "outputs": [
        {
          "output_type": "stream",
          "text": [
            "      CRIM    ZN  INDUS  CHAS    NOX  ...  RAD    TAX  PTRATIO       B  LSTAT\n",
            "0  0.00632  18.0   2.31   0.0  0.538  ...  1.0  296.0     15.3  396.90   4.98\n",
            "1  0.02731   0.0   7.07   0.0  0.469  ...  2.0  242.0     17.8  396.90   9.14\n",
            "2  0.02729   0.0   7.07   0.0  0.469  ...  2.0  242.0     17.8  392.83   4.03\n",
            "3  0.03237   0.0   2.18   0.0  0.458  ...  3.0  222.0     18.7  394.63   2.94\n",
            "4  0.06905   0.0   2.18   0.0  0.458  ...  3.0  222.0     18.7  396.90   5.33\n",
            "\n",
            "[5 rows x 13 columns]\n",
            "   MEDV\n",
            "0  24.0\n",
            "1  21.6\n",
            "2  34.7\n",
            "3  33.4\n",
            "4  36.2\n"
          ],
          "name": "stdout"
        }
      ]
    },
    {
      "cell_type": "code",
      "metadata": {
        "colab": {
          "base_uri": "https://localhost:8080/"
        },
        "id": "cnxKXKV2BzU-",
        "outputId": "7cbfc29c-5aa9-4ce5-df6e-4b735a1bd888"
      },
      "source": [
        "from sklearn import linear_model\r\n",
        "\r\n",
        "regr = linear_model.LinearRegression()\r\n",
        "\r\n",
        "regr.fit(X, Y)\r\n",
        "\r\n",
        "print('Intercept: \\n', regr.intercept_)\r\n",
        "\r\n",
        "print('Coefficients: \\n', regr.coef_)\r\n"
      ],
      "execution_count": 52,
      "outputs": [
        {
          "output_type": "stream",
          "text": [
            "Intercept: \n",
            " [36.45948839]\n",
            "Coefficients: \n",
            " [[-1.08011358e-01  4.64204584e-02  2.05586264e-02  2.68673382e+00\n",
            "  -1.77666112e+01  3.80986521e+00  6.92224640e-04 -1.47556685e+00\n",
            "   3.06049479e-01 -1.23345939e-02 -9.52747232e-01  9.31168327e-03\n",
            "  -5.24758378e-01]]\n"
          ],
          "name": "stdout"
        }
      ]
    },
    {
      "cell_type": "code",
      "metadata": {
        "colab": {
          "base_uri": "https://localhost:8080/"
        },
        "id": "9Nur_oaWB4Qv",
        "outputId": "e4464a22-eae5-4545-cf1d-5ce686751c17"
      },
      "source": [
        "# VIF Data_regressionframe \r\n",
        "\r\n",
        "vif_Data_regression = pd.DataFrame() \r\n",
        "\r\n",
        "vif_Data_regression[\"feature\"] = X.columns \r\n",
        "\r\n",
        "  \r\n",
        "\r\n",
        "# calculating VIF for each feature \r\n",
        "\r\n",
        "vif_Data_regression[\"VIF\"] = [variance_inflation_factor(X.values, i) \r\n",
        "\r\n",
        "             for i in range(len(X.columns))] \r\n",
        "\r\n",
        "  \r\n",
        "\r\n",
        "print(vif_Data_regression)"
      ],
      "execution_count": 53,
      "outputs": [
        {
          "output_type": "stream",
          "text": [
            "    feature        VIF\n",
            "0      CRIM   2.100373\n",
            "1        ZN   2.844013\n",
            "2     INDUS  14.485758\n",
            "3      CHAS   1.152952\n",
            "4       NOX  73.894947\n",
            "5        RM  77.948283\n",
            "6       AGE  21.386850\n",
            "7       DIS  14.699652\n",
            "8       RAD  15.167725\n",
            "9       TAX  61.227274\n",
            "10  PTRATIO  85.029547\n",
            "11        B  20.104943\n",
            "12    LSTAT  11.102025\n"
          ],
          "name": "stdout"
        }
      ]
    },
    {
      "cell_type": "code",
      "metadata": {
        "colab": {
          "base_uri": "https://localhost:8080/"
        },
        "id": "_MT3CRT3CB85",
        "outputId": "9f97397c-01dd-490c-eeef-6193537b0de3"
      },
      "source": [
        " X=X.drop(['PTRATIO'],axis=1)\r\n",
        "\r\n",
        "\r\n",
        "\r\n",
        " \r\n",
        "\r\n",
        "from sklearn import linear_model\r\n",
        "\r\n",
        "regr = linear_model.LinearRegression()\r\n",
        "\r\n",
        "regr.fit(X, Y)\r\n",
        "\r\n",
        "print('Intercept: \\n', regr.intercept_)\r\n",
        "\r\n",
        "print('Coefficients: \\n', regr.coef_)\r\n",
        "\r\n",
        "\r\n",
        "\r\n",
        "y_pred = regr.predict(X)\r\n"
      ],
      "execution_count": 54,
      "outputs": [
        {
          "output_type": "stream",
          "text": [
            "Intercept: \n",
            " [14.16885285]\n",
            "Coefficients: \n",
            " [[-1.02997999e-01  7.75285294e-02 -3.76207721e-02  3.27440854e+00\n",
            "  -8.59773370e+00  4.29523531e+00 -6.82990658e-03 -1.61154391e+00\n",
            "   2.14769116e-01 -1.44011836e-02  8.65552302e-03 -5.41531176e-01]]\n"
          ],
          "name": "stdout"
        }
      ]
    },
    {
      "cell_type": "code",
      "metadata": {
        "colab": {
          "base_uri": "https://localhost:8080/"
        },
        "id": "Tp9f-kduHXxa",
        "outputId": "145274b3-ffcc-424d-d91d-36a6f5e06341"
      },
      "source": [
        "from sklearn.metrics import mean_absolute_error\r\n",
        "\r\n",
        "mae3=mean_absolute_error(Y, y_pred)\r\n",
        "\r\n",
        "vif_Data_regressionr = pd.DataFrame() \r\n",
        "\r\n",
        "vif_Data_regressionr[\"feature\"] = X.columns \r\n",
        "\r\n",
        "  \r\n",
        "\r\n",
        "# calculating VIF for each feature \r\n",
        "\r\n",
        "vif_Data_regressionr[\"VIF\"] = [variance_inflation_factor(X.values, i) \r\n",
        "\r\n",
        "             for i in range(len(X.columns))] \r\n",
        "\r\n",
        "  \r\n",
        "\r\n",
        "print(vif_Data_regressionr)"
      ],
      "execution_count": 55,
      "outputs": [
        {
          "output_type": "stream",
          "text": [
            "   feature        VIF\n",
            "0     CRIM   2.099345\n",
            "1       ZN   2.451624\n",
            "2    INDUS  14.275283\n",
            "3     CHAS   1.142167\n",
            "4      NOX  73.894171\n",
            "5       RM  60.598846\n",
            "6      AGE  21.361234\n",
            "7      DIS  12.221605\n",
            "8      RAD  15.159162\n",
            "9      TAX  59.301541\n",
            "10       B  18.614751\n",
            "11   LSTAT  10.138324\n"
          ],
          "name": "stdout"
        }
      ]
    }
  ]
}