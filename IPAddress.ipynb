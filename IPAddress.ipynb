{
  "nbformat": 4,
  "nbformat_minor": 0,
  "metadata": {
    "colab": {
      "name": "IPAddress.ipynb",
      "provenance": [],
      "authorship_tag": "ABX9TyNMBYz8rXx9A+9tGb0SoWYY",
      "include_colab_link": true
    },
    "kernelspec": {
      "name": "python3",
      "display_name": "Python 3"
    }
  },
  "cells": [
    {
      "cell_type": "markdown",
      "metadata": {
        "id": "view-in-github",
        "colab_type": "text"
      },
      "source": [
        "<a href=\"https://colab.research.google.com/github/Devan5622/simplelinearregression/blob/master/IPAddress.ipynb\" target=\"_parent\"><img src=\"https://colab.research.google.com/assets/colab-badge.svg\" alt=\"Open In Colab\"/></a>"
      ]
    },
    {
      "cell_type": "code",
      "metadata": {
        "colab": {
          "base_uri": "https://localhost:8080/"
        },
        "id": "epqLa2j5ew4i",
        "outputId": "8f01f989-e61d-43bc-81d6-88720f357ef7"
      },
      "source": [
        "import socket\n",
        "hostN=socket.gethostname()\n",
        "IPAdd=socket.gethostbyname(hostN)\n",
        "print(\"IP Address is:\"+IPAdd)"
      ],
      "execution_count": 5,
      "outputs": [
        {
          "output_type": "stream",
          "text": [
            "IP Address is:172.28.0.2\n"
          ],
          "name": "stdout"
        }
      ]
    }
  ]
}