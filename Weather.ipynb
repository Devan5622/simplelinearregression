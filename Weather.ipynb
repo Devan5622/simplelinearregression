{
  "nbformat": 4,
  "nbformat_minor": 0,
  "metadata": {
    "colab": {
      "name": "Weather.ipynb",
      "provenance": [],
      "collapsed_sections": [],
      "authorship_tag": "ABX9TyOwf0BurXJEXYQKPcaD2HTG",
      "include_colab_link": true
    },
    "kernelspec": {
      "name": "python3",
      "display_name": "Python 3"
    }
  },
  "cells": [
    {
      "cell_type": "markdown",
      "metadata": {
        "id": "view-in-github",
        "colab_type": "text"
      },
      "source": [
        "<a href=\"https://colab.research.google.com/github/Devan5622/simplelinearregression/blob/master/Weather.ipynb\" target=\"_parent\"><img src=\"https://colab.research.google.com/assets/colab-badge.svg\" alt=\"Open In Colab\"/></a>"
      ]
    },
    {
      "cell_type": "code",
      "metadata": {
        "colab": {
          "base_uri": "https://localhost:8080/"
        },
        "id": "rlZKb-ps-e_G",
        "outputId": "b6d8f8d9-7bde-460a-d70a-949482b47633"
      },
      "source": [
        "import requests\n",
        "from bs4 import BeautifulSoup\n",
        "city=input(\"Enter Your city\")\n",
        "search=\"weather in\" + city\n",
        "url=f\"https://www.google.com/search?&q={search}\"\n",
        "r=requests.get(url)\n",
        "s=BeautifulSoup(r.text,\"html.parser\")\n",
        "update=s.find(\"div\",class_=\"BNeawe\").text\n",
        "print(update)"
      ],
      "execution_count": 4,
      "outputs": [
        {
          "output_type": "stream",
          "text": [
            "Enter Your cityMuzaffarnagar\n",
            "56°F\n"
          ],
          "name": "stdout"
        }
      ]
    }
  ]
}