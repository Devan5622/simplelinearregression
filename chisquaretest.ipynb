{
  "nbformat": 4,
  "nbformat_minor": 0,
  "metadata": {
    "colab": {
      "name": "chisquaretest.ipynb",
      "provenance": [],
      "collapsed_sections": [],
      "authorship_tag": "ABX9TyOXK7nLIh7onqInbBEy8hH7",
      "include_colab_link": true
    },
    "kernelspec": {
      "name": "python3",
      "display_name": "Python 3"
    }
  },
  "cells": [
    {
      "cell_type": "markdown",
      "metadata": {
        "id": "view-in-github",
        "colab_type": "text"
      },
      "source": [
        "<a href=\"https://colab.research.google.com/github/Devan5622/simplelinearregression/blob/master/chisquaretest.ipynb\" target=\"_parent\"><img src=\"https://colab.research.google.com/assets/colab-badge.svg\" alt=\"Open In Colab\"/></a>"
      ]
    },
    {
      "cell_type": "code",
      "metadata": {
        "id": "K9UI6lw0iYiz"
      },
      "source": [
        ""
      ],
      "execution_count": null,
      "outputs": []
    },
    {
      "cell_type": "code",
      "metadata": {
        "id": "h5HN1oW3iEVe",
        "outputId": "2a705df8-d096-4987-96e9-daa51264a3bf",
        "colab": {
          "base_uri": "https://localhost:8080/",
          "height": 50
        }
      },
      "source": [
        "from scipy.stats import chi2_contingency \n",
        "  \n",
        "# defining the table \n",
        "data = [262,234,204,190,210] \n",
        "stat, p, dof, expected = chi2_contingency(data) \n",
        "  \n",
        "# interpret p-value \n",
        "alpha = 0.05\n",
        "print(\"p value is \" + str(p)) \n",
        "if p <= alpha: \n",
        "    print('Dependent (reject H0)') \n",
        "else: \n",
        "    print('Independent (H0 holds true)') "
      ],
      "execution_count": 1,
      "outputs": [
        {
          "output_type": "stream",
          "text": [
            "p value is 1.0\n",
            "Independent (H0 holds true)\n"
          ],
          "name": "stdout"
        }
      ]
    }
  ]
}