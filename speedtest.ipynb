{
  "nbformat": 4,
  "nbformat_minor": 0,
  "metadata": {
    "colab": {
      "name": "speedtest.ipynb",
      "provenance": [],
      "collapsed_sections": [],
      "authorship_tag": "ABX9TyNAJcvnBo6rXWmwhajuhAYD",
      "include_colab_link": true
    },
    "kernelspec": {
      "name": "python3",
      "display_name": "Python 3"
    }
  },
  "cells": [
    {
      "cell_type": "markdown",
      "metadata": {
        "id": "view-in-github",
        "colab_type": "text"
      },
      "source": [
        "<a href=\"https://colab.research.google.com/github/Devan5622/simplelinearregression/blob/master/speedtest.ipynb\" target=\"_parent\"><img src=\"https://colab.research.google.com/assets/colab-badge.svg\" alt=\"Open In Colab\"/></a>"
      ]
    },
    {
      "cell_type": "code",
      "metadata": {
        "colab": {
          "base_uri": "https://localhost:8080/"
        },
        "id": "kMY9L3g17wHZ",
        "outputId": "4d13869e-6108-41b9-86bb-592161be67d0"
      },
      "source": [
        "!pip install speedtest-cli"
      ],
      "execution_count": 1,
      "outputs": [
        {
          "output_type": "stream",
          "text": [
            "Collecting speedtest-cli\n",
            "  Downloading https://files.pythonhosted.org/packages/c4/44/dfebd38c5fb35aae0a7279e2a3ffe33ca65edb449a586b93addc8d409a71/speedtest_cli-2.1.2-py2.py3-none-any.whl\n",
            "Installing collected packages: speedtest-cli\n",
            "Successfully installed speedtest-cli-2.1.2\n"
          ],
          "name": "stdout"
        }
      ]
    },
    {
      "cell_type": "code",
      "metadata": {
        "colab": {
          "base_uri": "https://localhost:8080/"
        },
        "id": "RYqcND6H753k",
        "outputId": "c3b0384f-e842-496b-df53-94ee68540ef3"
      },
      "source": [
        "import speedtest\n",
        "test=speedtest.Speedtest()\n",
        "print(\"Checking Download Speed!\")\n",
        "down=test.download()\n",
        "print(f\"Download Speed: {down/(1024*1024)} MB per sec\")\n",
        "print(\"Checking Upload Speed!\")\n",
        "upload=test.upload()\n",
        "print(f\"Upload Speed: {upload/(1024/1024)} MB per Sec\")"
      ],
      "execution_count": 3,
      "outputs": [
        {
          "output_type": "stream",
          "text": [
            "Checking Download Speed!\n",
            "Download Speed: 1800.8122338374976 MB per sec\n",
            "Checking Upload Speed!\n",
            "Upload Speed: 798640450.0559313 MB per Sec\n"
          ],
          "name": "stdout"
        }
      ]
    }
  ]
}